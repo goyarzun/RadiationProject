{
 "cells": [
  {
   "cell_type": "markdown",
   "metadata": {},
   "source": [
    "For $N_i$ fixed ions of charge $+Ze$ and $N_e$ electrons of charge $-e$ travelling in random directions at speed $v$, accelerating electrons emit isotropically.\n",
    "$$\\frac{\\epsilon_{\\nu}}{4\\pi} = \\frac{8 Z^2 e^6}{3m^2 v c^3}N_i N_e \\frac{\\pi}{\\sqrt{3}}g_{ff}$$"
   ]
  },
  {
   "cell_type": "markdown",
   "metadata": {},
   "source": [
    "Since unbound, use an analogous quantum number $\\eta$ such that the initial state $E_i = Z^2 I_0 / \\eta^2$ and the final energy state is $E_f = Z^2 I_0 / \\eta'^2$, for $I_0 = m e^4 / (2\\hbar)^2$. With manipulation, $\\eta = Z \\alpha / \\beta$ and $\\eta' = Z \\alpha / \\sqrt{\\beta^2 + 2 \\alpha^2 E_f}$ with corresponding wavenumbers."
   ]
  },
  {
   "cell_type": "markdown",
   "metadata": {},
   "source": [
    "Quantum Woo $\\rightarrow$ analytical continuation garbage that doesn't really matter understand $g_{ff}$, which is a ratio of the QM cross-section and the semi-classical derived cross-section."
   ]
  },
  {
   "cell_type": "markdown",
   "metadata": {},
   "source": [
    "$$g_{ff} =\\frac{2\\sqrt{3}}{\\pi \\eta_i \\eta_f}[(\\eta_i^2 + \\eta_f^2 + 2\\eta_i^2\\eta_f^2)I_0 - 2\\eta_i\\eta_f(1+\\eta_i^2)^{1/2}(1+\\eta_f^2)^{1/2}I_1]I_0$$\n",
    "Where $I_l$ has some functional form."
   ]
  },
  {
   "cell_type": "code",
   "execution_count": 1,
   "metadata": {
    "ExecuteTime": {
     "end_time": "2018-02-27T09:24:40.686474Z",
     "start_time": "2018-02-27T09:24:39.806498Z"
    },
    "collapsed": true
   },
   "outputs": [],
   "source": [
    "import numpy as np\n",
    "from scipy import constants\n",
    "import scipy.integrate\n",
    "import matplotlib.pyplot as plt\n",
    "%matplotlib inline\n",
    "plt.rc('text', usetex=True)\n",
    "from mpmath import hyp2f1, factorial, gamma\n",
    "fsc = constants.alpha   \n",
    "aB_in_cm = constants.value('Bohr radius') * 1e2\n",
    "c = constants.c * 1.e2\n",
    "e_e = 4.80320451e-10\n",
    "m_e = constants.electron_mass * 1e3\n",
    "k = 1.380648780669e-16"
   ]
  },
  {
   "cell_type": "code",
   "execution_count": 2,
   "metadata": {
    "ExecuteTime": {
     "end_time": "2018-02-27T09:24:40.705089Z",
     "start_time": "2018-02-27T09:24:40.687975Z"
    },
    "collapsed": true
   },
   "outputs": [],
   "source": [
    "def I(eta_i, eta_f, k_i, k_f, l):\n",
    "    \"\"\"something dumb (radial-dipole integral)\n",
    "    \n",
    "    Arguments:\n",
    "    eta_i  : modified quantum number associated with initial energy\n",
    "    eta_f  : modified quantum number associated with final energy\n",
    "    k_i    : wavenumber associated with initial energy\n",
    "    k_f    : wavenumber associated with final energy\n",
    "    l      : azimuthal quantum number\n",
    "    \n",
    "    Returns:\n",
    "    I_l    : some number.\n",
    "    \"\"\"\n",
    "    temp1 = 1/4*(4.* k_i * k_f / (k_i - k_f)**2)**(l+1) \n",
    "    temp2 = np.exp(np.pi/2*abs(eta_i - eta_f))\n",
    "    temp3 = abs(gamma(l+1+1j*eta_i) * gamma(l+1+1j*eta_f)) / gamma(2.*l + 2)\n",
    "    return temp1 * temp2 * temp3 *G(eta_i, eta_f, k_i, k_f, l)\n",
    "\n",
    "def G(eta_i, eta_f, k_i, k_f, l):\n",
    "    \"\"\"something dumb helper\"\"\"\n",
    "    temp1 = abs((k_f - k_i) / (k_f + k_i))**(1j*eta_i + 1j*eta_f)\n",
    "    temp2 = hyp2f1(l+1-1j*eta_f, \n",
    "                   l+1-1j*eta_i, \n",
    "                   2.*l+2, \n",
    "                   -4.*k_i*k_f/(k_i-k_f)**2)\n",
    "\n",
    "    return (temp1 * temp2).real"
   ]
  },
  {
   "cell_type": "code",
   "execution_count": 3,
   "metadata": {
    "ExecuteTime": {
     "end_time": "2018-02-27T09:24:40.721795Z",
     "start_time": "2018-02-27T09:24:40.707586Z"
    },
    "collapsed": true
   },
   "outputs": [],
   "source": [
    "def gaunt_free_free(Z, beta, E):\n",
    "    \"\"\"calculate the Gaunt factor for free-free emission\n",
    "    \n",
    "    Arguments:\n",
    "    Z    : ion charge, int\n",
    "    beta : velocity of incident electron in units of c, float or array\n",
    "    E    : energy of photon in units of Ha, float or array\n",
    "    \n",
    "    Returns:\n",
    "    g_ff : gaunt factor for free-free emission\"\"\"\n",
    "    \n",
    "    eta_i = Z * fsc / beta\n",
    "    k_i = Z / eta_i / aB_in_cm\n",
    "    eta_f = Z * fsc / (beta**2 + 2*E*fsc**2)**.5\n",
    "    k_f = Z / eta_f / aB_in_cm\n",
    "\n",
    "    I0 = I(eta_i, eta_f, k_i, k_f, 0)\n",
    "    I1 = I(eta_i, eta_f, k_i, k_f, 1)\n",
    "    \n",
    "    out = 2*3**.5/np.pi/eta_i/eta_f * I0\n",
    "    out *=((eta_i**2 + eta_f**2 + 2*eta_i**2*eta_f**2)*I0 - 2 * eta_i * eta_f * (1 + eta_i**2)**.5*(1+eta_f**2)**.5*I1)\n",
    "\n",
    "    return out.real"
   ]
  },
  {
   "cell_type": "code",
   "execution_count": 4,
   "metadata": {
    "ExecuteTime": {
     "end_time": "2018-02-27T09:24:40.728640Z",
     "start_time": "2018-02-27T09:24:40.723317Z"
    },
    "collapsed": true
   },
   "outputs": [],
   "source": [
    "def free_free_emission_spectrum(Z, hnu, E):\n",
    "    \"\"\"calculate free-free spectrum\n",
    "    \n",
    "    Arguments:\n",
    "    Z    : ion charge, int\n",
    "    hnu  : energy of emitted photon, in Ha\n",
    "    E    : electron final energy, in Ha\"\"\"\n",
    "    if hnu >= E:\n",
    "        return 0.\n",
    "    g_ff = gaunt_free_free(Z, fsc * (2*(E - hnu))**.5, hnu)\n",
    "    return 64 * np.pi**2 / 3 / 3**.5 * Z**2 * fsc**3 / (2*E)**.5 * g_ff"
   ]
  },
  {
   "cell_type": "markdown",
   "metadata": {},
   "source": [
    "The free-free emission per unit volume of a thermal gas is obtained averaging over a Maxwellian distribution, $f(E) \\propto \\sqrt{E} exp(-E/T)$"
   ]
  },
  {
   "cell_type": "code",
   "execution_count": 5,
   "metadata": {
    "ExecuteTime": {
     "end_time": "2018-02-27T09:24:42.037681Z",
     "start_time": "2018-02-27T09:24:42.030263Z"
    },
    "collapsed": true
   },
   "outputs": [],
   "source": [
    "def free_free_thermal_spectrum(Z, T, E):\n",
    "    \"\"\"calculate free-free spectrum\n",
    "    from an ensemble of electrons following a Maxwellian\n",
    "    \n",
    "    Arguments:\n",
    "    Z    : ion charge, int\n",
    "    T    : temperature of electrons, in Ha\n",
    "    E    : energies of emitted photons, in Ha\n",
    "    \"\"\"\n",
    "    out = np.zeros_like(E)\n",
    "    for i, hnu in enumerate(E):\n",
    "        out[i] = scipy.integrate.quad(lambda x: x**.5 * np.exp(-x / T) * free_free_emission_spectrum(Z, hnu, x), hnu, np.inf)[0]\n",
    "        out[i] /= scipy.integrate.quad(lambda x: x**.5 * np.exp(-x / T), 0, np.inf)[0]\n",
    "    return out"
   ]
  },
  {
   "cell_type": "markdown",
   "metadata": {},
   "source": [
    "Emissivity $\\epsilon_{\\nu}$ of free-free emission from an ensemble of electrons therefore is proportional to the velocitiy weighted Gaunt factor.\n",
    "$$\\epsilon_{\\nu,ff} = \\frac{1}{2\\pi}\\frac{2^5 Z^2 e^6}{3 \\sqrt{3} m^2 c^3}N_i N_e \\frac{\\int_{h\\nu}^{\\infty}g(E, \\nu) e^{-E / k T} dE}{\\int_{0}^{\\infty}\\sqrt{E} e^{-E / k T} dE} = \\frac{1}{2\\pi}\\frac{2^5 Z^2 e^6}{3 m c^3}N_i N_e \\bigg(\\frac{2\\pi}{3 k T m}\\bigg)^{1/2} e^{-h \\nu / k T} \\bar{g}_{ff}$$"
   ]
  },
  {
   "cell_type": "markdown",
   "metadata": {},
   "source": [
    "I am putting emissivity in cgs units."
   ]
  },
  {
   "cell_type": "code",
   "execution_count": 6,
   "metadata": {
    "ExecuteTime": {
     "end_time": "2018-02-27T09:24:43.363118Z",
     "start_time": "2018-02-27T09:24:43.348928Z"
    },
    "collapsed": true
   },
   "outputs": [],
   "source": [
    "def emissivity_free_free(Z, Ni, Ne, T, nu):\n",
    "    \"\"\"calculate emissivity of free free emission\n",
    "    \n",
    "    Arguments:\n",
    "    Z    : ion charge, int\n",
    "    Ni   : ion density, in cm^-3\n",
    "    Ne   : electron density, in cm^-3\n",
    "    T    : temperature of electrons, in K\n",
    "    nu   : frequency, in Hz\n",
    "    \"\"\"\n",
    "    T_Ha = T * 3.16680853419133e-6\n",
    "    hnu_Ha = nu * 1.519828500715e-16\n",
    "    \n",
    "    term = scipy.integrate.quad(lambda x:np.exp(-x/T_Ha) * gaunt_free_free(Z, fsc*(2*(x-hnu_Ha))**.5, hnu_Ha), hnu_Ha, np.inf)[0]\n",
    "    term /= scipy.integrate.quad(lambda x: x**.5 * np.exp(-x/T_Ha), 0, np.inf)[0]\n",
    "    # the exponential is folded into the numerator\n",
    "    \n",
    "    prefactor = 2**5 * np.pi * Z**2 * e_e**6 / 3 / m_e / c**3\n",
    "    temp2 = (2 * np.pi / 3 /k/m_e/T)**.5\n",
    "    return Ni*Ne*prefactor*temp2*term"
   ]
  },
  {
   "cell_type": "code",
   "execution_count": 7,
   "metadata": {
    "ExecuteTime": {
     "end_time": "2018-02-27T09:25:46.460914Z",
     "start_time": "2018-02-27T09:24:44.205697Z"
    },
    "collapsed": true
   },
   "outputs": [],
   "source": [
    "test = []\n",
    "for nu in np.logspace(np.log10(3e13),np.log10(3e15),200):\n",
    "    test.append(nu * emissivity_free_free(1, 1, 1, 10000, nu))"
   ]
  },
  {
   "cell_type": "code",
   "execution_count": 9,
   "metadata": {
    "ExecuteTime": {
     "end_time": "2018-02-27T09:26:01.735143Z",
     "start_time": "2018-02-27T09:26:01.338111Z"
    }
   },
   "outputs": [
    {
     "data": {
      "text/plain": [
       "<matplotlib.text.Text at 0x1186b7e10>"
      ]
     },
     "execution_count": 9,
     "metadata": {},
     "output_type": "execute_result"
    },
    {
     "data": {
      "image/png": "[encoded data removed]",
      "text/plain": [
       "<matplotlib.figure.Figure at 0x11863dd30>"
      ]
     },
     "metadata": {},
     "output_type": "display_data"
    }
   ],
   "source": [
    "plt.loglog(3e14/np.logspace(np.log10(3e13),np.log10(3e15),200), 1/2/np.pi*np.array(test))\n",
    "plt.ylim(1e-26,1e-23)\n",
    "plt.ylabel(r'\\nu \\gamma_{\\nu} (erg cm^{-3}s^{-1})')\n",
    "plt.xlabel('Wavelength (micron)')"
   ]
  },
  {
   "cell_type": "code",
   "execution_count": 10,
   "metadata": {
    "ExecuteTime": {
     "end_time": "2018-02-27T09:26:23.745515Z",
     "start_time": "2018-02-27T09:26:18.735510Z"
    },
    "collapsed": true,
    "scrolled": false
   },
   "outputs": [],
   "source": [
    "Z = 1.0\n",
    "energies = np.logspace(-5,8,101) # Ry\n",
    "velocities = np.sqrt(energies*fsc**2) # Ha\n",
    "photon_energies = np.logspace(-6,8, 15) # Ry\n",
    "\n",
    "gff1 = np.asarray([[gaunt_free_free(Z, v, photon_energy) for v in velocities] for photon_energy in photon_energies])\n"
   ]
  },
  {
   "cell_type": "code",
   "execution_count": 11,
   "metadata": {
    "ExecuteTime": {
     "end_time": "2018-02-27T09:26:25.503316Z",
     "start_time": "2018-02-27T09:26:25.127881Z"
    },
    "scrolled": true
   },
   "outputs": [
    {
     "data": {
      "text/plain": [
       "(1e-05, 10000000.0)"
      ]
     },
     "execution_count": 11,
     "metadata": {},
     "output_type": "execute_result"
    },
    {
     "data": {
      "image/png": "[encoded data removed]",
      "text/plain": [
       "<matplotlib.figure.Figure at 0x118636d30>"
      ]
     },
     "metadata": {},
     "output_type": "display_data"
    }
   ],
   "source": [
    "[plt.loglog(energies, gff1[i],'k') for i in range(len(photon_energies))]\n",
    "plt.xlabel(r'log E_i/Z^2 Ry')\n",
    "plt.ylabel(r'g_{ff}')\n",
    "plt.ylim(1e-4,10)\n",
    "plt.xlim(1e-5,1e7)"
   ]
  },
  {
   "cell_type": "code",
   "execution_count": 13,
   "metadata": {
    "ExecuteTime": {
     "end_time": "2018-02-27T09:26:56.868840Z",
     "start_time": "2018-02-27T09:26:52.039184Z"
    },
    "collapsed": true
   },
   "outputs": [],
   "source": [
    "Z = 1.0\n",
    "energies = np.logspace(-5,8,14) # Ry\n",
    "velocities = np.sqrt(energies*fsc**2) # Ha\n",
    "photon_energies = np.logspace(-6,8, 101) # Ry\n",
    "\n",
    "gff2 = [[gaunt_free_free(Z, v, photon_energy/2.) for photon_energy in photon_energies] for v in velocities]"
   ]
  },
  {
   "cell_type": "code",
   "execution_count": 14,
   "metadata": {
    "ExecuteTime": {
     "end_time": "2018-02-27T09:26:57.986890Z",
     "start_time": "2018-02-27T09:26:57.576171Z"
    }
   },
   "outputs": [
    {
     "data": {
      "text/plain": [
       "(1e-05, 100000000.0)"
      ]
     },
     "execution_count": 14,
     "metadata": {},
     "output_type": "execute_result"
    },
    {
     "data": {
      "image/png": "[encoded data removed]",
      "text/plain": [
       "<matplotlib.figure.Figure at 0x1186422b0>"
      ]
     },
     "metadata": {},
     "output_type": "display_data"
    }
   ],
   "source": [
    "[plt.loglog(photon_energies, gff2[i],'k') for i in range(len(velocities))]\n",
    "plt.xlabel(r'log h \\nu / Z^2 Ry')\n",
    "plt.ylabel(r'g_{ff}')\n",
    "plt.ylim(1e-4,9)\n",
    "plt.xlim(1e-5,1e8)"
   ]
  },
  {
   "cell_type": "code",
   "execution_count": 3,
   "metadata": {
    "ExecuteTime": {
     "end_time": "2018-03-11T00:13:55.551620Z",
     "start_time": "2018-03-11T00:13:55.409620Z"
    }
   },
   "outputs": [],
   "source": [
    "import io, os, sys, types\n",
    "from IPython import get_ipython\n",
    "from nbformat import read\n",
    "from IPython.core.interactiveshell import InteractiveShell"
   ]
  },
  {
   "cell_type": "code",
   "execution_count": 4,
   "metadata": {
    "ExecuteTime": {
     "end_time": "2018-03-11T00:14:00.516938Z",
     "start_time": "2018-03-11T00:14:00.505866Z"
    },
    "collapsed": true
   },
   "outputs": [],
   "source": [
    "def find_notebook(fullname, path=None):\n",
    "    \"\"\"find a notebook, given its fully qualified name and an optional path\n",
    "    \n",
    "    This turns \"foo.bar\" into \"foo/bar.ipynb\"\n",
    "    and tries turning \"Foo_Bar\" into \"Foo Bar\" if Foo_Bar\n",
    "    does not exist.\n",
    "    \"\"\"\n",
    "    name = fullname.rsplit('.', 1)[-1]\n",
    "    if not path:\n",
    "        path = ['']\n",
    "    for d in path:\n",
    "        nb_path = os.path.join(d, name + \".ipynb\")\n",
    "        if os.path.isfile(nb_path):\n",
    "            return nb_path\n",
    "        # let import Notebook_Name find \"Notebook Name.ipynb\"\n",
    "        nb_path = nb_path.replace(\"_\", \" \")\n",
    "        if os.path.isfile(nb_path):\n",
    "            return nb_path\n",
    "            "
   ]
  },
  {
   "cell_type": "code",
   "execution_count": 6,
   "metadata": {
    "ExecuteTime": {
     "end_time": "2018-03-11T00:14:31.446332Z",
     "start_time": "2018-03-11T00:14:31.401105Z"
    },
    "collapsed": true
   },
   "outputs": [],
   "source": [
    "class NotebookLoader(object):\n",
    "    \"\"\"Module Loader for Jupyter Notebooks\"\"\"\n",
    "    def __init__(self, path=None):\n",
    "        self.shell = InteractiveShell.instance()\n",
    "        self.path = path\n",
    "    \n",
    "    def load_module(self, fullname):\n",
    "        \"\"\"import a notebook as a module\"\"\"\n",
    "        path = find_notebook(fullname, self.path)\n",
    "        \n",
    "        print (\"importing Jupyter notebook from %s\" % path)\n",
    "                                       \n",
    "        # load the notebook object\n",
    "        with io.open(path, 'r', encoding='utf-8') as f:\n",
    "            nb = read(f, 4)\n",
    "        \n",
    "        \n",
    "        # create the module and add it to sys.modules\n",
    "        # if name in sys.modules:\n",
    "        #    return sys.modules[name]\n",
    "        mod = types.ModuleType(fullname)\n",
    "        mod.__file__ = path\n",
    "        mod.__loader__ = self\n",
    "        mod.__dict__['get_ipython'] = get_ipython\n",
    "        sys.modules[fullname] = mod\n",
    "        \n",
    "        # extra work to ensure that magics that would affect the user_ns\n",
    "        # actually affect the notebook module's ns\n",
    "        save_user_ns = self.shell.user_ns\n",
    "        self.shell.user_ns = mod.__dict__\n",
    "        \n",
    "        try:\n",
    "            for cell in nb.cells:\n",
    "                if cell.cell_type == 'code':\n",
    "                    # transform the input to executable Python\n",
    "                    code = self.shell.input_transformer_manager.transform_cell(cell.source)\n",
    "                    # run the code in themodule\n",
    "                    exec(code, mod.__dict__)\n",
    "        finally:\n",
    "            self.shell.user_ns = save_user_ns\n",
    "        return mod"
   ]
  },
  {
   "cell_type": "code",
   "execution_count": null,
   "metadata": {
    "collapsed": true
   },
   "outputs": [],
   "source": []
  }
 ],
 "metadata": {
  "anaconda-cloud": {},
  "kernelspec": {
   "display_name": "Python [Root]",
   "language": "python",
   "name": "Python [Root]"
  },
  "language_info": {
   "codemirror_mode": {
    "name": "ipython",
    "version": 3
   },
   "file_extension": ".py",
   "mimetype": "text/x-python",
   "name": "python",
   "nbconvert_exporter": "python",
   "pygments_lexer": "ipython3",
   "version": "3.5.2"
  }
 },
 "nbformat": 4,
 "nbformat_minor": 2
}
